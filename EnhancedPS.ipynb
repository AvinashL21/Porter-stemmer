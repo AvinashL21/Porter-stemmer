{
  "nbformat": 4,
  "nbformat_minor": 0,
  "metadata": {
    "colab": {
      "provenance": [],
      "authorship_tag": "ABX9TyPKOF16LuWMSxJZnzYBlr64",
      "include_colab_link": true
    },
    "kernelspec": {
      "name": "python3",
      "display_name": "Python 3"
    },
    "language_info": {
      "name": "python"
    }
  },
  "cells": [
    {
      "cell_type": "markdown",
      "metadata": {
        "id": "view-in-github",
        "colab_type": "text"
      },
      "source": [
        "<a href=\"https://colab.research.google.com/github/AvinashL21/Porter-stemmer/blob/main/EnhancedPS.ipynb\" target=\"_parent\"><img src=\"https://colab.research.google.com/assets/colab-badge.svg\" alt=\"Open In Colab\"/></a>"
      ]
    },
    {
      "cell_type": "code",
      "execution_count": null,
      "metadata": {
        "colab": {
          "base_uri": "https://localhost:8080/"
        },
        "id": "z5AMB4eZok60",
        "outputId": "b94f3a1b-eae8-4a76-ca90-da8c8769e47e"
      },
      "outputs": [
        {
          "output_type": "stream",
          "name": "stdout",
          "text": [
            "Collecting nltk==3.5\n",
            "  Downloading nltk-3.5.zip (1.4 MB)\n",
            "\u001b[?25l     \u001b[90m━━━━━━━━━━━━━━━━━━━━━━━━━━━━━━━━━━━━━━━━\u001b[0m \u001b[32m0.0/1.4 MB\u001b[0m \u001b[31m?\u001b[0m eta \u001b[36m-:--:--\u001b[0m\r\u001b[2K     \u001b[91m━━━━\u001b[0m\u001b[90m╺\u001b[0m\u001b[90m━━━━━━━━━━━━━━━━━━━━━━━━━━━━━━━━━━━\u001b[0m \u001b[32m0.2/1.4 MB\u001b[0m \u001b[31m4.4 MB/s\u001b[0m eta \u001b[36m0:00:01\u001b[0m\r\u001b[2K     \u001b[91m━━━━━━━━━━━━━━\u001b[0m\u001b[91m╸\u001b[0m\u001b[90m━━━━━━━━━━━━━━━━━━━━━━━━━\u001b[0m \u001b[32m0.5/1.4 MB\u001b[0m \u001b[31m7.7 MB/s\u001b[0m eta \u001b[36m0:00:01\u001b[0m\r\u001b[2K     \u001b[91m━━━━━━━━━━━━━━━━━━━━━━━━━━━\u001b[0m\u001b[90m╺\u001b[0m\u001b[90m━━━━━━━━━━━━\u001b[0m \u001b[32m1.0/1.4 MB\u001b[0m \u001b[31m9.3 MB/s\u001b[0m eta \u001b[36m0:00:01\u001b[0m\r\u001b[2K     \u001b[91m━━━━━━━━━━━━━━━━━━━━━━━━━━━━━━━━━━━━━━━\u001b[0m\u001b[91m╸\u001b[0m \u001b[32m1.4/1.4 MB\u001b[0m \u001b[31m10.5 MB/s\u001b[0m eta \u001b[36m0:00:01\u001b[0m\r\u001b[2K     \u001b[90m━━━━━━━━━━━━━━━━━━━━━━━━━━━━━━━━━━━━━━━━\u001b[0m \u001b[32m1.4/1.4 MB\u001b[0m \u001b[31m9.7 MB/s\u001b[0m eta \u001b[36m0:00:00\u001b[0m\n",
            "\u001b[?25h  Preparing metadata (setup.py) ... \u001b[?25l\u001b[?25hdone\n",
            "Requirement already satisfied: click in /usr/local/lib/python3.10/dist-packages (from nltk==3.5) (8.1.7)\n",
            "Requirement already satisfied: joblib in /usr/local/lib/python3.10/dist-packages (from nltk==3.5) (1.3.2)\n",
            "Requirement already satisfied: regex in /usr/local/lib/python3.10/dist-packages (from nltk==3.5) (2023.12.25)\n",
            "Requirement already satisfied: tqdm in /usr/local/lib/python3.10/dist-packages (from nltk==3.5) (4.66.2)\n",
            "Building wheels for collected packages: nltk\n",
            "  Building wheel for nltk (setup.py) ... \u001b[?25l\u001b[?25hdone\n",
            "  Created wheel for nltk: filename=nltk-3.5-py3-none-any.whl size=1434678 sha256=b42b7ae6aedb74aac6994a1b07f95c2b399252517b9a2ad2ed6ea74ee63ebd85\n",
            "  Stored in directory: /root/.cache/pip/wheels/35/ab/82/f9667f6f884d272670a15382599a9c753a1dfdc83f7412e37d\n",
            "Successfully built nltk\n",
            "Installing collected packages: nltk\n",
            "  Attempting uninstall: nltk\n",
            "    Found existing installation: nltk 3.8.1\n",
            "    Uninstalling nltk-3.8.1:\n",
            "      Successfully uninstalled nltk-3.8.1\n",
            "Successfully installed nltk-3.5\n"
          ]
        }
      ],
      "source": [
        " pip install nltk==3.5"
      ]
    },
    {
      "cell_type": "code",
      "source": [
        "import nltk\n",
        "import re\n",
        "import string\n",
        "nltk.download('punkt')\n",
        "from nltk.tokenize import sent_tokenize, word_tokenize"
      ],
      "metadata": {
        "colab": {
          "base_uri": "https://localhost:8080/"
        },
        "id": "XgNLjFk-pAZR",
        "outputId": "78a2e13d-48be-4845-d682-fee2e3be1524"
      },
      "execution_count": null,
      "outputs": [
        {
          "output_type": "stream",
          "name": "stderr",
          "text": [
            "[nltk_data] Downloading package punkt to /root/nltk_data...\n",
            "[nltk_data]   Unzipping tokenizers/punkt.zip.\n"
          ]
        }
      ]
    },
    {
      "cell_type": "code",
      "source": [
        "file=open(\"/content/sample_data/Football.txt\")\n",
        "text=file.readline()\n",
        "file.close()\n",
        "print(text)"
      ],
      "metadata": {
        "colab": {
          "base_uri": "https://localhost:8080/"
        },
        "id": "ltfarE6rpKiF",
        "outputId": "0088772f-8d97-46e3-9f01-8af44d6c6904"
      },
      "execution_count": null,
      "outputs": [
        {
          "output_type": "stream",
          "name": "stdout",
          "text": [
            "Football, also known as soccer in some countries, is the most popular sport in the world. It is played by millions of people of all ages, genders, and abilities. In this essay, we will discuss the history of football, its popularity, and its impact on society. Football dates back to ancient times, with various forms of the game being played in different parts of the world. The modern version of football originated in England in the mid-19th century, and the first official football match was played in 1863. Since then, the sport has grown in popularity, and it is now played in almost every country in the world. One of the reasons for football's popularity is its simplicity. All that is needed to play is a ball and a flat surface. It is also a sport that can be played almost anywhere, from the streets of a city to a professional stadium. Additionally, football is a sport that can be enjoyed by people of all ages and abilities, from children playing with friends to professional athletes competing at the highest level. Football has also had a significant impact on society. It has the ability to bring people together, regardless of their background or culture. It is a sport that transcends language and borders, and it has the power to unite people from different countries and backgrounds. In some countries, football is even seen as a way to promote peace and understanding. Furthermore, football has an economic impact. It is a major industry that generates billions of dollars in revenue each year. Professional football clubs employ thousands of people, from players and coaches to administrative staff and support workers. The sport also generates revenue from merchandise, broadcasting rights, and ticket sales. In conclusion, football is a popular sport that has a rich history and a significant impact on society. It is enjoyed by millions of people worldwide and has the ability to bring people together. As a major industry, football also has an economic impact and provides employment for thousands of people. Football is more than just a game; it is a symbol of unity, passion, and community.\n"
          ]
        }
      ]
    },
    {
      "cell_type": "code",
      "source": [
        "def number_of_words(text):\n",
        "    count = 0\n",
        "    for line in text.split('\\n'):\n",
        "        count += len(line.split())\n",
        "    return count\n",
        "Original_no_of_words=number_of_words(text)\n",
        "print(Original_no_of_words)"
      ],
      "metadata": {
        "colab": {
          "base_uri": "https://localhost:8080/"
        },
        "id": "EyYl9C0N60Uv",
        "outputId": "b64f1d10-bbe0-4820-aa99-2967dd39e506"
      },
      "execution_count": null,
      "outputs": [
        {
          "output_type": "stream",
          "name": "stdout",
          "text": [
            "357\n"
          ]
        }
      ]
    },
    {
      "cell_type": "code",
      "source": [
        "# clean text by removing successive whitespace and newlines then print regularized text\n",
        "clean_txt = re.sub(r\"\\n\", \" \", text)\n",
        "clean_txt = re.sub(r\"\\s+\", \" \", clean_txt)\n",
        "clean_txt = clean_txt.strip()\n",
        "print(clean_txt)"
      ],
      "metadata": {
        "colab": {
          "base_uri": "https://localhost:8080/"
        },
        "id": "P5hLlE_7iEmO",
        "outputId": "522967af-2808-4f7a-c0b1-9118ae3cb434"
      },
      "execution_count": null,
      "outputs": [
        {
          "output_type": "stream",
          "name": "stdout",
          "text": [
            "Football, also known as soccer in some countries, is the most popular sport in the world. It is played by millions of people of all ages, genders, and abilities. In this essay, we will discuss the history of football, its popularity, and its impact on society. Football dates back to ancient times, with various forms of the game being played in different parts of the world. The modern version of football originated in England in the mid-19th century, and the first official football match was played in 1863. Since then, the sport has grown in popularity, and it is now played in almost every country in the world. One of the reasons for football's popularity is its simplicity. All that is needed to play is a ball and a flat surface. It is also a sport that can be played almost anywhere, from the streets of a city to a professional stadium. Additionally, football is a sport that can be enjoyed by people of all ages and abilities, from children playing with friends to professional athletes competing at the highest level. Football has also had a significant impact on society. It has the ability to bring people together, regardless of their background or culture. It is a sport that transcends language and borders, and it has the power to unite people from different countries and backgrounds. In some countries, football is even seen as a way to promote peace and understanding. Furthermore, football has an economic impact. It is a major industry that generates billions of dollars in revenue each year. Professional football clubs employ thousands of people, from players and coaches to administrative staff and support workers. The sport also generates revenue from merchandise, broadcasting rights, and ticket sales. In conclusion, football is a popular sport that has a rich history and a significant impact on society. It is enjoyed by millions of people worldwide and has the ability to bring people together. As a major industry, football also has an economic impact and provides employment for thousands of people. Football is more than just a game; it is a symbol of unity, passion, and community.\n"
          ]
        }
      ]
    },
    {
      "cell_type": "code",
      "source": [
        "#Function to remove Punctuation from the text file\n",
        "PUNCT_TO_REMOVE = string.punctuation\n",
        "def remove_punctuation(clean_txt):\n",
        "    return clean_txt.translate(str.maketrans('', '', PUNCT_TO_REMOVE))\n",
        "\n",
        "punct= remove_punctuation(clean_txt)\n",
        "print(punct)"
      ],
      "metadata": {
        "colab": {
          "base_uri": "https://localhost:8080/"
        },
        "id": "DCIu_1_qnvxm",
        "outputId": "93f3ed27-31f4-4462-b729-d44e324c10c2"
      },
      "execution_count": null,
      "outputs": [
        {
          "output_type": "stream",
          "name": "stdout",
          "text": [
            "Football also known as soccer in some countries is the most popular sport in the world It is played by millions of people of all ages genders and abilities In this essay we will discuss the history of football its popularity and its impact on society Football dates back to ancient times with various forms of the game being played in different parts of the world The modern version of football originated in England in the mid19th century and the first official football match was played in 1863 Since then the sport has grown in popularity and it is now played in almost every country in the world One of the reasons for footballs popularity is its simplicity All that is needed to play is a ball and a flat surface It is also a sport that can be played almost anywhere from the streets of a city to a professional stadium Additionally football is a sport that can be enjoyed by people of all ages and abilities from children playing with friends to professional athletes competing at the highest level Football has also had a significant impact on society It has the ability to bring people together regardless of their background or culture It is a sport that transcends language and borders and it has the power to unite people from different countries and backgrounds In some countries football is even seen as a way to promote peace and understanding Furthermore football has an economic impact It is a major industry that generates billions of dollars in revenue each year Professional football clubs employ thousands of people from players and coaches to administrative staff and support workers The sport also generates revenue from merchandise broadcasting rights and ticket sales In conclusion football is a popular sport that has a rich history and a significant impact on society It is enjoyed by millions of people worldwide and has the ability to bring people together As a major industry football also has an economic impact and provides employment for thousands of people Football is more than just a game it is a symbol of unity passion and community\n"
          ]
        }
      ]
    },
    {
      "cell_type": "code",
      "source": [
        "#Function to remove duplicates from the text file\n",
        "def remove_duplicates(punct):\n",
        "\twords = punct.split(\" \")\n",
        "\tresult = []\n",
        "\tfor word in words:\n",
        "\t\tif word not in result:\n",
        "\t\t\tresult.append(word)\n",
        "\treturn \" \".join(result)\n",
        "\n",
        "freq=(remove_duplicates(punct))\n",
        "print(freq)"
      ],
      "metadata": {
        "colab": {
          "base_uri": "https://localhost:8080/"
        },
        "id": "D2EcDeRMpafb",
        "outputId": "8bdf6fc3-2c8d-4687-a110-d3d7cbc3cc01"
      },
      "execution_count": null,
      "outputs": [
        {
          "output_type": "stream",
          "name": "stdout",
          "text": [
            "Football also known as soccer in some countries is the most popular sport world It played by millions of people all ages genders and abilities In this essay we will discuss history football its popularity impact on society dates back to ancient times with various forms game being different parts The modern version originated England mid19th century first official match was 1863 Since then has grown it now almost every country One reasons for footballs simplicity All that needed play a ball flat surface can be anywhere from streets city professional stadium Additionally enjoyed children playing friends athletes competing at highest level had significant ability bring together regardless their background or culture transcends language borders power unite backgrounds even seen way promote peace understanding Furthermore an economic major industry generates billions dollars revenue each year Professional clubs employ thousands players coaches administrative staff support workers merchandise broadcasting rights ticket sales conclusion rich worldwide As provides employment more than just symbol unity passion community\n"
          ]
        }
      ]
    },
    {
      "cell_type": "code",
      "source": [
        "#To remove emojis from the text file\n",
        "!pip install clean-text"
      ],
      "metadata": {
        "colab": {
          "base_uri": "https://localhost:8080/"
        },
        "id": "E73v-ek2o4bc",
        "outputId": "50f235ad-e9ab-4bfb-b3ef-49791a778563"
      },
      "execution_count": null,
      "outputs": [
        {
          "output_type": "stream",
          "name": "stdout",
          "text": [
            "Requirement already satisfied: clean-text in /usr/local/lib/python3.10/dist-packages (0.6.0)\n",
            "Requirement already satisfied: emoji<2.0.0,>=1.0.0 in /usr/local/lib/python3.10/dist-packages (from clean-text) (1.7.0)\n",
            "Requirement already satisfied: ftfy<7.0,>=6.0 in /usr/local/lib/python3.10/dist-packages (from clean-text) (6.2.0)\n",
            "Requirement already satisfied: wcwidth<0.3.0,>=0.2.12 in /usr/local/lib/python3.10/dist-packages (from ftfy<7.0,>=6.0->clean-text) (0.2.13)\n"
          ]
        }
      ]
    },
    {
      "cell_type": "code",
      "source": [
        "!pip install unidecode"
      ],
      "metadata": {
        "colab": {
          "base_uri": "https://localhost:8080/"
        },
        "id": "hzDsskHw2oZO",
        "outputId": "0beea8dd-bcbe-4242-8993-d0bef2cc4ad7"
      },
      "execution_count": null,
      "outputs": [
        {
          "output_type": "stream",
          "name": "stdout",
          "text": [
            "Collecting unidecode\n",
            "  Downloading Unidecode-1.3.8-py3-none-any.whl (235 kB)\n",
            "\u001b[?25l     \u001b[90m━━━━━━━━━━━━━━━━━━━━━━━━━━━━━━━━━━━━━━━━\u001b[0m \u001b[32m0.0/235.5 kB\u001b[0m \u001b[31m?\u001b[0m eta \u001b[36m-:--:--\u001b[0m\r\u001b[2K     \u001b[91m━━━━━━━━━━━━━━━━━━━━━━━━\u001b[0m\u001b[90m╺\u001b[0m\u001b[90m━━━━━━━━━━━━━━━\u001b[0m \u001b[32m143.4/235.5 kB\u001b[0m \u001b[31m4.1 MB/s\u001b[0m eta \u001b[36m0:00:01\u001b[0m\r\u001b[2K     \u001b[90m━━━━━━━━━━━━━━━━━━━━━━━━━━━━━━━━━━━━━━━━\u001b[0m \u001b[32m235.5/235.5 kB\u001b[0m \u001b[31m4.6 MB/s\u001b[0m eta \u001b[36m0:00:00\u001b[0m\n",
            "\u001b[?25hInstalling collected packages: unidecode\n",
            "Successfully installed unidecode-1.3.8\n"
          ]
        }
      ]
    },
    {
      "cell_type": "code",
      "source": [
        "from cleantext import clean\n",
        "emoji_free_text=clean(freq, no_emoji=True)\n",
        "print(emoji_free_text)"
      ],
      "metadata": {
        "colab": {
          "base_uri": "https://localhost:8080/"
        },
        "id": "0mElCIH8xjL0",
        "outputId": "af112a35-4845-44f3-e472-439a5fdd6894"
      },
      "execution_count": null,
      "outputs": [
        {
          "output_type": "stream",
          "name": "stdout",
          "text": [
            "football also known as soccer in some countries is the most popular sport world it played by millions of people all ages genders and abilities in this essay we will discuss history football its popularity impact on society dates back to ancient times with various forms game being different parts the modern version originated england mid19th century first official match was 1863 since then has grown it now almost every country one reasons for footballs simplicity all that needed play a ball flat surface can be anywhere from streets city professional stadium additionally enjoyed children playing friends athletes competing at highest level had significant ability bring together regardless their background or culture transcends language borders power unite backgrounds even seen way promote peace understanding furthermore an economic major industry generates billions dollars revenue each year professional clubs employ thousands players coaches administrative staff support workers merchandise broadcasting rights ticket sales conclusion rich worldwide as provides employment more than just symbol unity passion community\n"
          ]
        }
      ]
    },
    {
      "cell_type": "code",
      "source": [
        "#Function to remove urls from the input text\n",
        "def remove_urls(emoji_free_text):\n",
        "    url_pattern = re.compile(r'https?://\\S+|www\\.\\S+')\n",
        "    return url_pattern.sub(r'', emoji_free_text)\n",
        "url_free_text=remove_urls(emoji_free_text)\n",
        "print(url_free_text)"
      ],
      "metadata": {
        "colab": {
          "base_uri": "https://localhost:8080/"
        },
        "id": "k8KxcQlt1uWR",
        "outputId": "b789d32d-c368-4707-d06b-5cd3faa8cfa5"
      },
      "execution_count": null,
      "outputs": [
        {
          "output_type": "stream",
          "name": "stdout",
          "text": [
            "football also known as soccer in some countries is the most popular sport world it played by millions of people all ages genders and abilities in this essay we will discuss history football its popularity impact on society dates back to ancient times with various forms game being different parts the modern version originated england mid19th century first official match was 1863 since then has grown it now almost every country one reasons for footballs simplicity all that needed play a ball flat surface can be anywhere from streets city professional stadium additionally enjoyed children playing friends athletes competing at highest level had significant ability bring together regardless their background or culture transcends language borders power unite backgrounds even seen way promote peace understanding furthermore an economic major industry generates billions dollars revenue each year professional clubs employ thousands players coaches administrative staff support workers merchandise broadcasting rights ticket sales conclusion rich worldwide as provides employment more than just symbol unity passion community\n"
          ]
        }
      ]
    },
    {
      "cell_type": "code",
      "source": [
        "#Function to remove HTML tags from the input text\n",
        "def remove_html(url_free_text):\n",
        "    html_pattern = re.compile('<.*?>')\n",
        "    return html_pattern.sub(r'', url_free_text)\n",
        "html_free_text=remove_html(url_free_text)\n",
        "print(remove_html(url_free_text))"
      ],
      "metadata": {
        "colab": {
          "base_uri": "https://localhost:8080/"
        },
        "id": "9pV9qh_1x_Ow",
        "outputId": "be3730db-1b13-4ef9-c69e-39a77725dc6a"
      },
      "execution_count": null,
      "outputs": [
        {
          "output_type": "stream",
          "name": "stdout",
          "text": [
            "football also known as soccer in some countries is the most popular sport world it played by millions of people all ages genders and abilities in this essay we will discuss history football its popularity impact on society dates back to ancient times with various forms game being different parts the modern version originated england mid19th century first official match was 1863 since then has grown it now almost every country one reasons for footballs simplicity all that needed play a ball flat surface can be anywhere from streets city professional stadium additionally enjoyed children playing friends athletes competing at highest level had significant ability bring together regardless their background or culture transcends language borders power unite backgrounds even seen way promote peace understanding furthermore an economic major industry generates billions dollars revenue each year professional clubs employ thousands players coaches administrative staff support workers merchandise broadcasting rights ticket sales conclusion rich worldwide as provides employment more than just symbol unity passion community\n"
          ]
        }
      ]
    },
    {
      "cell_type": "code",
      "source": [
        "!pip install pyspellchecker\n"
      ],
      "metadata": {
        "colab": {
          "base_uri": "https://localhost:8080/"
        },
        "id": "2iwaQX4Jx_vv",
        "outputId": "2a9dd52c-036c-4e3e-ef29-dd57d3d28838"
      },
      "execution_count": null,
      "outputs": [
        {
          "output_type": "stream",
          "name": "stdout",
          "text": [
            "Collecting pyspellchecker\n",
            "  Downloading pyspellchecker-0.8.1-py3-none-any.whl (6.8 MB)\n",
            "\u001b[2K     \u001b[90m━━━━━━━━━━━━━━━━━━━━━━━━━━━━━━━━━━━━━━━━\u001b[0m \u001b[32m6.8/6.8 MB\u001b[0m \u001b[31m13.9 MB/s\u001b[0m eta \u001b[36m0:00:00\u001b[0m\n",
            "\u001b[?25hInstalling collected packages: pyspellchecker\n",
            "Successfully installed pyspellchecker-0.8.1\n"
          ]
        }
      ]
    },
    {
      "cell_type": "code",
      "source": [
        "#Function for Spelling Correction\n",
        "from spellchecker import SpellChecker\n",
        "\n",
        "spell = SpellChecker()\n",
        "\n",
        "def correct_spellings(url_free_text):\n",
        "    corrected_text = []\n",
        "    misspelled_words = spell.unknown(url_free_text.split())\n",
        "    for word in url_free_text.split():\n",
        "        if word in misspelled_words:\n",
        "            correction = spell.correction(word)\n",
        "            if correction is not None:\n",
        "                corrected_text.append(correction)\n",
        "        else:\n",
        "            corrected_text.append(word)\n",
        "    return \" \".join(corrected_text)\n",
        "\n",
        "corrected_spelling_text = correct_spellings(url_free_text)\n",
        "print(corrected_spelling_text)"
      ],
      "metadata": {
        "colab": {
          "base_uri": "https://localhost:8080/"
        },
        "id": "7wKWFKCV9G2z",
        "outputId": "cf019a3d-6778-42aa-d4b0-89bb2c1f64aa"
      },
      "execution_count": null,
      "outputs": [
        {
          "output_type": "stream",
          "name": "stdout",
          "text": [
            "football also known as soccer in some countries is the most popular sport world it played by millions of people all ages genders and abilities in this essay we will discuss history football its popularity impact on society dates back to ancient times with various forms game being different parts the modern version originated inland century first official match was 1863 since then has grown it now almost every country one reasons for footballs simplicity all that needed play a ball flat surface can be anywhere from streets city professional stadium additionally enjoyed children playing friends athletes competing at highest level had significant ability bring together regardless their background or culture transcends language borders power unite backgrounds even seen way promote peace understanding furthermore an economic major industry generates billions dollars revenue each year professional clubs employ thousands players coaches administrative staff support workers merchandise broadcasting rights ticket sales conclusion rich worldwide as provides employment more than just symbol unity passion community\n"
          ]
        }
      ]
    },
    {
      "cell_type": "code",
      "source": [
        "#tokenize the clean text\n",
        "tokenized_words=word_tokenize(corrected_spelling_text)\n",
        "# remove non-alphabetic tokens and print\n",
        "filtered_tokens_alpha = [word for word in tokenized_words if word.isalpha()]\n",
        "print(filtered_tokens_alpha)"
      ],
      "metadata": {
        "id": "rwd9ZPxSpeHU",
        "colab": {
          "base_uri": "https://localhost:8080/"
        },
        "outputId": "2426e93e-d0f1-4c55-d688-5c7bb1265347"
      },
      "execution_count": null,
      "outputs": [
        {
          "output_type": "stream",
          "name": "stdout",
          "text": [
            "['football', 'also', 'known', 'as', 'soccer', 'in', 'some', 'countries', 'is', 'the', 'most', 'popular', 'sport', 'world', 'it', 'played', 'by', 'millions', 'of', 'people', 'all', 'ages', 'genders', 'and', 'abilities', 'in', 'this', 'essay', 'we', 'will', 'discuss', 'history', 'football', 'its', 'popularity', 'impact', 'on', 'society', 'dates', 'back', 'to', 'ancient', 'times', 'with', 'various', 'forms', 'game', 'being', 'different', 'parts', 'the', 'modern', 'version', 'originated', 'inland', 'century', 'first', 'official', 'match', 'was', 'since', 'then', 'has', 'grown', 'it', 'now', 'almost', 'every', 'country', 'one', 'reasons', 'for', 'footballs', 'simplicity', 'all', 'that', 'needed', 'play', 'a', 'ball', 'flat', 'surface', 'can', 'be', 'anywhere', 'from', 'streets', 'city', 'professional', 'stadium', 'additionally', 'enjoyed', 'children', 'playing', 'friends', 'athletes', 'competing', 'at', 'highest', 'level', 'had', 'significant', 'ability', 'bring', 'together', 'regardless', 'their', 'background', 'or', 'culture', 'transcends', 'language', 'borders', 'power', 'unite', 'backgrounds', 'even', 'seen', 'way', 'promote', 'peace', 'understanding', 'furthermore', 'an', 'economic', 'major', 'industry', 'generates', 'billions', 'dollars', 'revenue', 'each', 'year', 'professional', 'clubs', 'employ', 'thousands', 'players', 'coaches', 'administrative', 'staff', 'support', 'workers', 'merchandise', 'broadcasting', 'rights', 'ticket', 'sales', 'conclusion', 'rich', 'worldwide', 'as', 'provides', 'employment', 'more', 'than', 'just', 'symbol', 'unity', 'passion', 'community']\n"
          ]
        }
      ]
    },
    {
      "cell_type": "code",
      "source": [
        "nltk.download(\"stopwords\")\n",
        "from nltk.corpus import stopwords\n"
      ],
      "metadata": {
        "colab": {
          "base_uri": "https://localhost:8080/"
        },
        "id": "LAqz1Knxpj-a",
        "outputId": "78419df5-3eac-4ddf-c0df-f54c749a8a75"
      },
      "execution_count": null,
      "outputs": [
        {
          "output_type": "stream",
          "name": "stderr",
          "text": [
            "[nltk_data] Downloading package stopwords to /root/nltk_data...\n",
            "[nltk_data]   Package stopwords is already up-to-date!\n"
          ]
        }
      ]
    },
    {
      "cell_type": "code",
      "source": [
        "stop_words = set(stopwords.words(\"english\"))"
      ],
      "metadata": {
        "id": "dWehtLvLpnR1"
      },
      "execution_count": null,
      "outputs": []
    },
    {
      "cell_type": "code",
      "source": [
        "filtered_list = []"
      ],
      "metadata": {
        "id": "gT52jCR-ppzU"
      },
      "execution_count": null,
      "outputs": []
    },
    {
      "cell_type": "code",
      "source": [
        "for word in filtered_tokens_alpha:\n",
        "   if word.casefold() not in stop_words:\n",
        "        filtered_list.append(word)"
      ],
      "metadata": {
        "id": "3JGXDE4Vpsbb"
      },
      "execution_count": null,
      "outputs": []
    },
    {
      "cell_type": "code",
      "source": [
        "filtered_list"
      ],
      "metadata": {
        "colab": {
          "base_uri": "https://localhost:8080/"
        },
        "id": "_JKJbn4zpvH0",
        "outputId": "ba1e8ca3-0d51-4cf9-8bbe-98f439d8a85b"
      },
      "execution_count": null,
      "outputs": [
        {
          "output_type": "execute_result",
          "data": {
            "text/plain": [
              "['football',\n",
              " 'also',\n",
              " 'known',\n",
              " 'soccer',\n",
              " 'countries',\n",
              " 'popular',\n",
              " 'sport',\n",
              " 'world',\n",
              " 'played',\n",
              " 'millions',\n",
              " 'people',\n",
              " 'ages',\n",
              " 'genders',\n",
              " 'abilities',\n",
              " 'essay',\n",
              " 'discuss',\n",
              " 'history',\n",
              " 'football',\n",
              " 'popularity',\n",
              " 'impact',\n",
              " 'society',\n",
              " 'dates',\n",
              " 'back',\n",
              " 'ancient',\n",
              " 'times',\n",
              " 'various',\n",
              " 'forms',\n",
              " 'game',\n",
              " 'different',\n",
              " 'parts',\n",
              " 'modern',\n",
              " 'version',\n",
              " 'originated',\n",
              " 'inland',\n",
              " 'century',\n",
              " 'first',\n",
              " 'official',\n",
              " 'match',\n",
              " 'since',\n",
              " 'grown',\n",
              " 'almost',\n",
              " 'every',\n",
              " 'country',\n",
              " 'one',\n",
              " 'reasons',\n",
              " 'footballs',\n",
              " 'simplicity',\n",
              " 'needed',\n",
              " 'play',\n",
              " 'ball',\n",
              " 'flat',\n",
              " 'surface',\n",
              " 'anywhere',\n",
              " 'streets',\n",
              " 'city',\n",
              " 'professional',\n",
              " 'stadium',\n",
              " 'additionally',\n",
              " 'enjoyed',\n",
              " 'children',\n",
              " 'playing',\n",
              " 'friends',\n",
              " 'athletes',\n",
              " 'competing',\n",
              " 'highest',\n",
              " 'level',\n",
              " 'significant',\n",
              " 'ability',\n",
              " 'bring',\n",
              " 'together',\n",
              " 'regardless',\n",
              " 'background',\n",
              " 'culture',\n",
              " 'transcends',\n",
              " 'language',\n",
              " 'borders',\n",
              " 'power',\n",
              " 'unite',\n",
              " 'backgrounds',\n",
              " 'even',\n",
              " 'seen',\n",
              " 'way',\n",
              " 'promote',\n",
              " 'peace',\n",
              " 'understanding',\n",
              " 'furthermore',\n",
              " 'economic',\n",
              " 'major',\n",
              " 'industry',\n",
              " 'generates',\n",
              " 'billions',\n",
              " 'dollars',\n",
              " 'revenue',\n",
              " 'year',\n",
              " 'professional',\n",
              " 'clubs',\n",
              " 'employ',\n",
              " 'thousands',\n",
              " 'players',\n",
              " 'coaches',\n",
              " 'administrative',\n",
              " 'staff',\n",
              " 'support',\n",
              " 'workers',\n",
              " 'merchandise',\n",
              " 'broadcasting',\n",
              " 'rights',\n",
              " 'ticket',\n",
              " 'sales',\n",
              " 'conclusion',\n",
              " 'rich',\n",
              " 'worldwide',\n",
              " 'provides',\n",
              " 'employment',\n",
              " 'symbol',\n",
              " 'unity',\n",
              " 'passion',\n",
              " 'community']"
            ]
          },
          "metadata": {},
          "execution_count": 211
        }
      ]
    },
    {
      "cell_type": "code",
      "source": [
        "filtered_list = [\n",
        "    word for word in filtered_tokens_alpha if word.casefold() not in stop_words\n",
        "]"
      ],
      "metadata": {
        "id": "XfIARE0lpyqP"
      },
      "execution_count": null,
      "outputs": []
    },
    {
      "cell_type": "code",
      "source": [
        "filtered_list"
      ],
      "metadata": {
        "colab": {
          "base_uri": "https://localhost:8080/"
        },
        "id": "NBK87dDUp2Cn",
        "outputId": "89a780af-47cb-4691-fd50-399588fe8ce7"
      },
      "execution_count": null,
      "outputs": [
        {
          "output_type": "execute_result",
          "data": {
            "text/plain": [
              "['football',\n",
              " 'also',\n",
              " 'known',\n",
              " 'soccer',\n",
              " 'countries',\n",
              " 'popular',\n",
              " 'sport',\n",
              " 'world',\n",
              " 'played',\n",
              " 'millions',\n",
              " 'people',\n",
              " 'ages',\n",
              " 'genders',\n",
              " 'abilities',\n",
              " 'essay',\n",
              " 'discuss',\n",
              " 'history',\n",
              " 'football',\n",
              " 'popularity',\n",
              " 'impact',\n",
              " 'society',\n",
              " 'dates',\n",
              " 'back',\n",
              " 'ancient',\n",
              " 'times',\n",
              " 'various',\n",
              " 'forms',\n",
              " 'game',\n",
              " 'different',\n",
              " 'parts',\n",
              " 'modern',\n",
              " 'version',\n",
              " 'originated',\n",
              " 'inland',\n",
              " 'century',\n",
              " 'first',\n",
              " 'official',\n",
              " 'match',\n",
              " 'since',\n",
              " 'grown',\n",
              " 'almost',\n",
              " 'every',\n",
              " 'country',\n",
              " 'one',\n",
              " 'reasons',\n",
              " 'footballs',\n",
              " 'simplicity',\n",
              " 'needed',\n",
              " 'play',\n",
              " 'ball',\n",
              " 'flat',\n",
              " 'surface',\n",
              " 'anywhere',\n",
              " 'streets',\n",
              " 'city',\n",
              " 'professional',\n",
              " 'stadium',\n",
              " 'additionally',\n",
              " 'enjoyed',\n",
              " 'children',\n",
              " 'playing',\n",
              " 'friends',\n",
              " 'athletes',\n",
              " 'competing',\n",
              " 'highest',\n",
              " 'level',\n",
              " 'significant',\n",
              " 'ability',\n",
              " 'bring',\n",
              " 'together',\n",
              " 'regardless',\n",
              " 'background',\n",
              " 'culture',\n",
              " 'transcends',\n",
              " 'language',\n",
              " 'borders',\n",
              " 'power',\n",
              " 'unite',\n",
              " 'backgrounds',\n",
              " 'even',\n",
              " 'seen',\n",
              " 'way',\n",
              " 'promote',\n",
              " 'peace',\n",
              " 'understanding',\n",
              " 'furthermore',\n",
              " 'economic',\n",
              " 'major',\n",
              " 'industry',\n",
              " 'generates',\n",
              " 'billions',\n",
              " 'dollars',\n",
              " 'revenue',\n",
              " 'year',\n",
              " 'professional',\n",
              " 'clubs',\n",
              " 'employ',\n",
              " 'thousands',\n",
              " 'players',\n",
              " 'coaches',\n",
              " 'administrative',\n",
              " 'staff',\n",
              " 'support',\n",
              " 'workers',\n",
              " 'merchandise',\n",
              " 'broadcasting',\n",
              " 'rights',\n",
              " 'ticket',\n",
              " 'sales',\n",
              " 'conclusion',\n",
              " 'rich',\n",
              " 'worldwide',\n",
              " 'provides',\n",
              " 'employment',\n",
              " 'symbol',\n",
              " 'unity',\n",
              " 'passion',\n",
              " 'community']"
            ]
          },
          "metadata": {},
          "execution_count": 213
        }
      ]
    },
    {
      "cell_type": "code",
      "source": [
        "from nltk.stem import PorterStemmer\n",
        "stemmer = PorterStemmer()"
      ],
      "metadata": {
        "id": "pXPgNGQ3p5Jv"
      },
      "execution_count": null,
      "outputs": []
    },
    {
      "cell_type": "code",
      "source": [
        "stemmed_words = [stemmer.stem(word) for word in filtered_list]"
      ],
      "metadata": {
        "id": "TcRoZdMzvCgr"
      },
      "execution_count": null,
      "outputs": []
    },
    {
      "cell_type": "code",
      "source": [
        "print(stemmed_words)"
      ],
      "metadata": {
        "colab": {
          "base_uri": "https://localhost:8080/"
        },
        "id": "deBNBgKWvMsh",
        "outputId": "85713991-5201-4b82-f854-3e09a8dbfb82"
      },
      "execution_count": null,
      "outputs": [
        {
          "output_type": "stream",
          "name": "stdout",
          "text": [
            "['footbal', 'also', 'known', 'soccer', 'countri', 'popular', 'sport', 'world', 'play', 'million', 'peopl', 'age', 'gender', 'abil', 'essay', 'discuss', 'histori', 'footbal', 'popular', 'impact', 'societi', 'date', 'back', 'ancient', 'time', 'variou', 'form', 'game', 'differ', 'part', 'modern', 'version', 'origin', 'inland', 'centuri', 'first', 'offici', 'match', 'sinc', 'grown', 'almost', 'everi', 'countri', 'one', 'reason', 'footbal', 'simplic', 'need', 'play', 'ball', 'flat', 'surfac', 'anywher', 'street', 'citi', 'profession', 'stadium', 'addit', 'enjoy', 'children', 'play', 'friend', 'athlet', 'compet', 'highest', 'level', 'signific', 'abil', 'bring', 'togeth', 'regardless', 'background', 'cultur', 'transcend', 'languag', 'border', 'power', 'unit', 'background', 'even', 'seen', 'way', 'promot', 'peac', 'understand', 'furthermor', 'econom', 'major', 'industri', 'gener', 'billion', 'dollar', 'revenu', 'year', 'profession', 'club', 'employ', 'thousand', 'player', 'coach', 'administr', 'staff', 'support', 'worker', 'merchandis', 'broadcast', 'right', 'ticket', 'sale', 'conclus', 'rich', 'worldwid', 'provid', 'employ', 'symbol', 'uniti', 'passion', 'commun']\n"
          ]
        }
      ]
    },
    {
      "cell_type": "code",
      "source": [
        "Number_of_stemmed_words=number_of_words(' '.join(stemmed_words))\n",
        "print(Number_of_stemmed_words)"
      ],
      "metadata": {
        "colab": {
          "base_uri": "https://localhost:8080/"
        },
        "id": "7WA6eMsU7teo",
        "outputId": "09aa4126-55d4-426a-bf0e-cb33690c34c1"
      },
      "execution_count": null,
      "outputs": [
        {
          "output_type": "stream",
          "name": "stdout",
          "text": [
            "118\n"
          ]
        }
      ]
    },
    {
      "cell_type": "code",
      "source": [
        "#Rate of Reduction of words\n",
        "Reduction_rate=((Number_of_stemmed_words/Original_no_of_words)*100)\n",
        "Reduction_rate"
      ],
      "metadata": {
        "colab": {
          "base_uri": "https://localhost:8080/"
        },
        "id": "qJmkDh_w8HhJ",
        "outputId": "636ed3ea-3e69-425a-c335-e4b8fd080def"
      },
      "execution_count": null,
      "outputs": [
        {
          "output_type": "execute_result",
          "data": {
            "text/plain": [
              "33.0532212885154"
            ]
          },
          "metadata": {},
          "execution_count": 217
        }
      ]
    }
  ]
}